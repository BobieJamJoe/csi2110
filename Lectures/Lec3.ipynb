{
 "cells": [
  {
   "cell_type": "markdown",
   "metadata": {},
   "source": [
    "# Analysis of Algorithms (cont.)\n",
    "## Asymptotic Analysis: Growth Rate and Big-O Notation\n",
    "### Big-O Conventions\n",
    "- If f(n) is a polynomial of degree `d`, the f(n) is O(n<sup>d</sup>), i.e.,\n",
    "    - Drop lower-order terms.\n",
    "    - Drop constant factors.\n",
    "- Use the smallest possible class of functions.\n",
    "- Use the simplest expression of the class.\n",
    "\n",
    "### Asymptotic Algorithm Analysis\n",
    "- The asymptotic analysis of an algorithm determines the running time in Big-O notation.\n",
    "- To perform the asymptotic analysis,\n",
    "    - We find the worst-case number of primitive operations executed as a function of the input size.\n",
    "    - We express this function with big-O notation.\n",
    "- Since constant factors and lower-order terms are eventually dropped, we can disregard them when counting primitive operations.\n",
    "\n",
    "**Theorem:** If g(n) is O(f(n)), then for any constant c > 0, g(n) is also O(c*f(n))\n",
    "\n",
    "**Theorem:** O(f(n) + g(n)) = O(max(f(n), g(n)))\n",
    "\n",
    "- Seven functions that often appear in algorithm analysis:\n",
    "    - Constant = 1\n",
    "    - Logarithmic = log(n)\n",
    "    - Linear = n\n",
    "    - n-log-n = n*log(n)\n",
    "    - Quadratic = n<sup>2</sup>\n",
    "    - Cubic = n<sup>3</sup>\n",
    "    - Exponential = a<sup>n</sup>"
   ]
  },
  {
   "cell_type": "markdown",
   "metadata": {},
   "source": [
    "## Comparing Two Algorithms for the Same Problem\n",
    "### Computing Prefix Averages\n",
    "- We further illustrate asymptotic analysis with two algorithms for prefix averages.\n",
    "- The i-th prefix average of an array X is average of the first (i+1) elements of X:\n",
    "\n",
    "`A[i] = (X[0] + X[1] + ... + X[i])/(i+1)`\n",
    "\n",
    "![Prefix average graph](./Resources/PrefixAverageGraph.png)\n",
    "\n",
    "- Computing the array A of prefix averages of another array X has applications to financial analysis."
   ]
  },
  {
   "cell_type": "raw",
   "metadata": {
    "vscode": {
     "languageId": "raw"
    }
   },
   "source": [
    "Algorithm prefixAverages1(X, n)\n",
    "Input array X of n integers\n",
    "Output array A of prefix averages of X\n",
    "    A <- new array of n integers            1\n",
    "    for i <- 0 to n-1 do                    n\n",
    "        s <- X[0]                           n\n",
    "        for j <- 1 to i do                  1+2+...+(n-1)+n\n",
    "            s <- s + X[j]                   0+1+...+(n-1)\n",
    "        A[i] <- s / (i+1)                   n\n",
    "    return A                                1"
   ]
  },
  {
   "cell_type": "markdown",
   "metadata": {},
   "source": [
    "*Running time of prefixAverages1: T<sub>1</sub>(n) is O(n<sup>2</sup>)\n",
    "\n",
    "The following algorithm uses a running summation to improve the efficiency."
   ]
  },
  {
   "cell_type": "raw",
   "metadata": {
    "vscode": {
     "languageId": "raw"
    }
   },
   "source": [
    "Algorithm prefixAverages2(X, n):\n",
    "Input: An n-element array X of n numbers.\n",
    "Output: An n-element array A of prefix averages of X.\n",
    "    A <- new array of n integers            1\n",
    "    s <- 0                                  1\n",
    "    for i <- 0 to n-1 do                    n\n",
    "        s <- s + X[i]                       n\n",
    "        A[i] <- s / (i+1)                   n\n",
    "    return array A                          1"
   ]
  },
  {
   "cell_type": "markdown",
   "metadata": {},
   "source": [
    "*Running time of prefixAverage2: T<sub>2</sub>(n) is O(n) time (linear).*"
   ]
  },
  {
   "cell_type": "markdown",
   "metadata": {},
   "source": [
    "## Asymptotic Analysis: Big-Omega and Big-Theta\n",
    "### Relatives of Big-O\n",
    "\n",
    "**big-Omega**\n",
    "- f(n) is &#937;(g(n)) if there is a constant c > 0 and an integer constant n<sub>0</sub> such that f(n) >= g(n) for n >= n<sub>0</sub>\n",
    "\n",
    "**big-Theta**\n",
    "- f(n) is &#920;(g(n)) if there are constants c' > 0 and c'' > 0 and an integer constant n<sub>0</sub> >= 1 such that c'g(n) <= f(n) <= c''g(n) for n >= n<sub>0</sub>\n",
    "\n",
    "### big-Omega\n",
    "**Theorem:** f(n) is &#937;(g(n)) iff g(n) is O(f(n))\n",
    "\n",
    "![big-Omega example graph](./Resources/bigOmegaGraph.png)\n",
    "\n",
    "### big-Theta\n",
    "**Theorem:** f(n) is &#920;(g(n)) iff f(n) &#8714; O(g(n)) AND g(n) &#8714; O(f(n))\n",
    "\n",
    "**Theorem:** f(n) is &#920;(g(n)) iff f(n) &#8714; O(g(n)) AND f(n) &#8714; &#937;(g(n))"
   ]
  }
 ],
 "metadata": {
  "kernelspec": {
   "display_name": "Java (Rapaio Jupyter)",
   "language": "java",
   "name": "rapaio-jupyter-kernel"
  },
  "language_info": {
   "name": "java"
  }
 },
 "nbformat": 4,
 "nbformat_minor": 2
}
