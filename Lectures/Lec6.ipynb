{
 "cells": [
  {
   "cell_type": "markdown",
   "metadata": {},
   "source": [
    "# Trees\n",
    "- A graph G = (V, E) consists of a set V of **vertices** and a set E of **edges**, with E = {(u, v): u, v &#8714;, u &#8800; v}\n",
    "- A **tree** is a connected graph with no cycles.\n",
    "-> &#8707; a path between each pair of vertices.\n",
    "\n",
    "## Tree Terminology\n",
    "- **Root**: node without a parent.\n",
    "- **Subtree**: tree consisting of a node and its descendants.\n",
    "- **Internal node**: node with at least one child.\n",
    "- **External node** (a.k.a. **leaf**): node without children.\n",
    "- **Ancestors** of a node: parent, grandparent, etc.\n",
    "- **Descendant** of a node: child, grandchild, etc.\n",
    "- **Distance** between two nodes: number of \"edges\" between them.\n",
    "- **Depth** of a node: number of ancestors (= distance from the root).\n",
    "- **Height** of a tree: maximum depth of any node.\n",
    "\n",
    "## ADTs for Trees\n",
    "- Generic container methods:\n",
    "    - `size()`, `isEmpty()`, `elements()`\n",
    "- Positional container methods:\n",
    "    - `positions()`, `swapElements(p, q)`, `replaceElement(p, e)`\n",
    "- Query methods:\n",
    "    - `isRoot(p)`, `isInternal(p)`, `isExternal(p)`\n",
    "- Accessor methods:\n",
    "    - `root()`, `parent(p)`, `children(p)`\n",
    "- Update methods:\n",
    "    - application specific\n",
    "\n",
    "## Traversing Trees\n",
    "### Preorder Traversal\n",
    "- In a preorder traversal, a node is visited before its descendants."
   ]
  },
  {
   "cell_type": "markdown",
   "metadata": {},
   "source": [
    "Algorith preOrder(v)\n",
    "    visit(v)\n",
    "    for each child w of v\n",
    "        preOrder(w)"
   ]
  },
  {
   "cell_type": "markdown",
   "metadata": {},
   "source": [
    "### Postorder Traversal\n",
    "- In a postorder traversal, a node is visited after its descendants."
   ]
  },
  {
   "cell_type": "raw",
   "metadata": {
    "vscode": {
     "languageId": "raw"
    }
   },
   "source": [
    "Algorithm postOrder(v)\n",
    "    for each child w of v\n",
    "        postOrder(w)\n",
    "    visit(v)"
   ]
  },
  {
   "cell_type": "markdown",
   "metadata": {},
   "source": [
    "## Binary Trees\n",
    "- Children are ordered.\n",
    "- Each node has at most two children: left and right.\n",
    "- In \"full\" binary trees, each node is a leaf or has two children (i.e. no node has only 1 child).\n",
    "- A perfect binary is a full binary tree with all leaves at the same height.\n",
    "    - A perfect binary tree has 2<sup>h + 1</sup> - 1 nodes.\n",
    "- A complete binary tree is similar to a perfect tree, except not all leaves need to be at the same height. The deepest leaves are at the leftmost side of the tree.\n",
    "- Complete binary tree of depth h = perfect tree of depth (h - 1) with one or more leaves at level h which are placed as left as possible.\n",
    "- Some implementations of binary trees fill out the tree using dummy leaves. This means that any binary tree is full due to dummy nodes. Every external node is technically a dummy node.\n",
    "\n",
    "### Properties of Binary Trees\n",
    "- Notation:\n",
    "    - n = # of nodes\n",
    "    - e = # of external node / leaves\n",
    "    - i = # of internal nodes\n",
    "    - h = height\n",
    "- Maximum number of nodes at each level is 2<sup>l</sup>\n",
    "\n",
    "### Properties of Full Binary Trees\n",
    "- e = i + 1\n",
    "- n = 2*e - 1\n",
    "- h <= i\n",
    "- h <= (n - 1)/2\n",
    "- e <= 2<sup>h</sup>\n",
    "- h >= log<sub>2</sub>e\n",
    "- h >= log<sub>2</sub>(n + 1) - 1\n",
    "- In binary trees:\n",
    "    - n <= 2<sup>h + 1</sup> - 1\n",
    "    - h >= log<sub>2</sub>(n + 1) - 1\n",
    "\n",
    "### Complete Binary Trees\n",
    "- A complete binary tree of height h is composed by a perfect binary tree of height h - 1 plus some leaves.\n",
    "- 2<sup>h</sup> <= n <= 2<sup>h + 1</sup> - 1\n",
    "- 2<sup>h</sup> <= n < 2<sup>h + 1</sup>\n",
    "- h <= log<sub>2</sub>(n) < h + 1\n",
    "- h is an integer -> h = integer part of log<sub>2</sub>(n)"
   ]
  },
  {
   "cell_type": "markdown",
   "metadata": {},
   "source": [
    "### Summary of Important Properties\n",
    "**Binary Trees**\n",
    "- h + 1 <= n <= 2<sup>h + 1</sup> - 1\n",
    "- 1 <= e <= 2<sup>h</sup>\n",
    "- h <= i <= 2<sup>h</sup> - 1\n",
    "- log<sub>2</sub>(n + 1) - 1 <= h <= n - 1\n",
    "\n",
    "**Full Binary Trees**\n",
    "- 2*h + 1 <= n <= 2<sup>h + 1</sup> - 1\n",
    "- h + 1 <= e <= 2<sup>h</sup>\n",
    "- h <= i <= 2<sup>h</sup> - 1\n",
    "- log<sub>2</sub>(n + 1) - 1 <= h <= (n - 1)/2"
   ]
  }
 ],
 "metadata": {
  "kernelspec": {
   "display_name": "Java (Rapaio Jupyter)",
   "language": "java",
   "name": "rapaio-jupyter-kernel"
  },
  "language_info": {
   "name": "java"
  }
 },
 "nbformat": 4,
 "nbformat_minor": 2
}
