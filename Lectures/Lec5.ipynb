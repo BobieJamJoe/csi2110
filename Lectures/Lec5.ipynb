{
 "cells": [
  {
   "cell_type": "markdown",
   "metadata": {},
   "source": [
    "# Lists\n",
    "## Lists or Sequences\n",
    "- Lists of collections of elements in linear order.\n",
    "- **Array List ADT** - to be implemented by arrays. Access by \"index\".\n",
    "- **Positional List ADT** - to be implemented by linked lists. Access by \"position\" (or address).\n",
    "- **Sequence ADT** - combination of both.\n",
    "\n",
    "## Array-Lists\n",
    "- Can access any element directly, not just first or last.\n",
    "- Elements are accessed by **index** (or rank), the number of elements which precede them (if starting from index 0).\n",
    "- Typically implemented by an array.\n",
    "\n",
    "### The Array-List ADT\n",
    "- A sequence S (with n elements) that supports the following methods:\n",
    "    - `get(i)`: Return the element of S with index i; an error occurs if i < 0 or i > n - 1\n",
    "    - `set(i, e)`: Replace the element at index i with e and return the old element; an error condition occurs if i < 0 or i > n - 1.\n",
    "    - `add(i, e)`: Insert a new element into S which will have index i; an error occurs if i < 0 or i > n.\n",
    "    - `remove(i)`: Remove from S the element at index i; an error occurs if i < 0 or i > n - 1.\n",
    "    - Also support methods: `size()` and `isEmpty()`.\n",
    "\n",
    "### Natural Implementation of Array-List with an Array\n",
    "- Array V of size N.\n",
    "- A variable n keeps track of the size of the array-list.\n",
    "- Operation `get(i)` is implemented in O(1) time by returning V[i].\n",
    "\n",
    "### Insertion\n",
    "- In operation `add(r, o)`, we need to make room for the new element by shifting forward the n - r elements V[r], ..., V[n - 1].\n",
    "- In the worst case (r = 0), this takes O(n) time.\n",
    "\n",
    "### Deletion\n",
    "- In operation `remove(r)`, we need to fill the hole left by the removed element by shifting backward the n - r - 1 elements V[r + 1], ..., V[n - 1].\n",
    "- In the worst case (r = 0), this takes O(n) time.\n",
    "\n",
    "### Java Implementation"
   ]
  },
  {
   "cell_type": "code",
   "execution_count": 4,
   "metadata": {},
   "outputs": [],
   "source": [
    "public class MyArrayList<E> {\n",
    "    E[] array;\n",
    "    int size;\n",
    "\n",
    "    public MyArrayList(int capacity) {\n",
    "        array = (E[]) new Object[capacity];\n",
    "        size = 0;\n",
    "    }\n",
    "\n",
    "    public int size() { return size; }\n",
    "    public boolean isEmpty() { return size == 0; }\n",
    "    \n",
    "    public E get(int i) throws IndexOutOfBoundsException {\n",
    "        checkIndex(i, size);\n",
    "        return data[i];\n",
    "    }\n",
    "\n",
    "    public E set(int i, E e) throws IndexOutOfBoundsException {\n",
    "        checkIndex(i, size);\n",
    "        E temp = data[i];\n",
    "        data[i] = e;\n",
    "        return temp;\n",
    "    }\n",
    "\n",
    "    public void add(int i, E e) throws IndexOutOfBoundsException, IllegalStateException {\n",
    "        checkIndex(i, size + 1);\n",
    "        if (size == data.length)\n",
    "            throw new IllegalStateException(\"Array is full\");\n",
    "        for (int k = size - 1; k >= i; k--)\n",
    "            data[k + 1] = data[k];\n",
    "        data[i] = e;\n",
    "        size++;\n",
    "    }\n",
    "\n",
    "    public E remove(int i) throws IndexOutOfBoundsException {\n",
    "        checkIndex(i, size);\n",
    "        E temp = data[i];\n",
    "        for (int k = i; k < size - 1; k++)\n",
    "            data[k] = data[k + 1];\n",
    "        data[size - 1] = null;\n",
    "        size--;\n",
    "        return temp;\n",
    "    }\n",
    "\n",
    "    protected void checkIndex(int i, int n) throws IndexOutOfBoundsException {\n",
    "        if (i < 0 || i >= n)\n",
    "            throw new IndexOutOfBoundsException(\"Illegal index: \" + i);\n",
    "    }\n",
    "}"
   ]
  },
  {
   "cell_type": "markdown",
   "metadata": {},
   "source": [
    "### Performance of Array-List with Arrays\n",
    "- The space used by the data structure is O(n).\n",
    "\n",
    "| Method | Time |\n",
    "| ----- | ----- |\n",
    "| `size()` | O(1) |\n",
    "| `isEmpty()` | O(1) |\n",
    "| `get(i)` | O(1) |\n",
    "| `set(i, e)` | O(1) |\n",
    "| `add(i, e)` | O(n) |\n",
    "| `remove(i)` | O(n) |\n",
    "\n",
    "- In an `add` operation, when the array is full, instead of having an error, we can replace the array with a larger one: **extendable arrays**.\n",
    "\n",
    "### Class java.util.ArrayList<E>\n",
    "- Inherits from\n",
    "    - java.util.AbstractCollection<E>\n",
    "    - java.util.AbstractList<E>\n",
    "- Implements\n",
    "    - Iterable<E>\n",
    "    - Collection<E>\n",
    "    - List<E>\n",
    "    - RandomAccess\n",
    "- The methods\n",
    "    - `size()`, `isEmpty()`, `get(int)`, and `set(int, E)` in time O(1)\n",
    "    - `add(int, E)` and `remove(int)` in time O(n)\n",
    "\n",
    "### Extendable/Dynamic Array-based Array List\n",
    "- Let `push(o)` be the operation that adds element o at the end of the list.\n",
    "- When the array is full, we replace the array with a larger one.\n",
    "- How large should the new array be?\n",
    "    - **Incremental strategy**: increase the size by a constant c.\n",
    "    - **Doubling strategy**: double the size."
   ]
  },
  {
   "cell_type": "raw",
   "metadata": {
    "vscode": {
     "languageId": "raw"
    }
   },
   "source": [
    "Algorithm push(o)\n",
    "    if n = S.length - 1 then\n",
    "        A <- new array of size ...\n",
    "        for i <- 0 to n - 1 do\n",
    "            A[i] <- S[i]\n",
    "        S <- A\n",
    "    n <- n + 1\n",
    "    S[n - 1] <- o"
   ]
  },
  {
   "cell_type": "markdown",
   "metadata": {},
   "source": [
    "### Comparison of the Strategies\n",
    "- We compare the **incremental strategy** and the **doubling strategy** by analyzing the total time T(n) needed to perform a series of n push operations.\n",
    "- We assume that we start with an empty list represented by a growable array of size 1.\n",
    "- We call **amortized time** of a push operation the average time taken by a push operation over the series of operations, i.e., T(n)/n.\n",
    "\n",
    "### Incremental Strategy Analysis\n",
    "**Incremental strategy: n <- n + c**\n",
    "- Over n push operations, we replace the array k = n/c time, where c is a constant.\n",
    "- The total time T(n) of a series of n push operations is proportional to\n",
    "\n",
    "n + c + 2c + 3c + 4c + ... + kc \n",
    "\n",
    "= n + c*(1 + 2 + 3 + ... + k)\n",
    "\n",
    "= n + c\\*k\\*(k + 1)/2\n",
    "\n",
    "- Since c is a constant, T(n) is O(n + k<sup>2</sup>), i.e., O(n<sup>2</sup>).\n",
    "- Thus, the amortized time of a push operation is O(n)."
   ]
  },
  {
   "cell_type": "markdown",
   "metadata": {},
   "source": [
    "### Doubling Strategy Analysis\n",
    "**Doubling strategy: n <- 2n**\n",
    "- We replace the array k = log<sub>2</sub>(n) times.\n",
    "- The total time T(n) of a series of n push operations is proportional to\n",
    "\n",
    "n + 1 + 2 + 4 + 8 + ... + 2<sup>k</sup>\n",
    "\n",
    "= n + 2<sup>k + 1</sup> - 1\n",
    "\n",
    "= 3*n - 1\n",
    "\n",
    "- T(n) is O(n)\n",
    "- The amortized time of a push operation is O(1)"
   ]
  },
  {
   "cell_type": "markdown",
   "metadata": {},
   "source": [
    "## Positional Lists\n",
    "- Container of elements that store each element at a **position** and that keeps these positions arranged in a linear order.\n",
    "- Cannot access any element directly, can access just first or last.\n",
    "- Elements are accessed by **position**. Positions are defined relatively to other positions (before/after relation).\n",
    "\n",
    "### The Positional-List ADT\n",
    "- ADT with position-based methods.\n",
    "- Generic methods: `size()`, `isEmpty()`\n",
    "- Accessor methods: `first()`, `last()`, `before(p)`, `after(p)`\n",
    "- Update methods: `addFirst(e)`, `addLast(e)`, `addBefore(p, e)`, `addAfter(p, e)`, `set(p, e)`, `remove(p)`\n",
    "\n",
    "### Natural Implementation: with a Linked List\n",
    "- A doubly linked list provides a natural implementation of the Positional-List ADT.\n",
    "- Nodes implement position and store:\n",
    "    - element\n",
    "    - link to the previous node\n",
    "    - link to the next node\n",
    "- Special trailer and header nodes\n",
    "\n",
    "### Insertion"
   ]
  },
  {
   "cell_type": "raw",
   "metadata": {
    "vscode": {
     "languageId": "raw"
    }
   },
   "source": [
    "Algorithm addAfter(p, e)\n",
    "    v <- new node\n",
    "    v.setElement(e)\n",
    "    v.setPrev(p)\n",
    "    v.setNext(p.getNext())\n",
    "    p.getNext().setPrev(v)\n",
    "    p.setNext(v)"
   ]
  },
  {
   "cell_type": "markdown",
   "metadata": {},
   "source": [
    "### Deletion"
   ]
  },
  {
   "cell_type": "raw",
   "metadata": {
    "vscode": {
     "languageId": "raw"
    }
   },
   "source": [
    "Algorithm remove(p)\n",
    "    t <- p.element\n",
    "    p.getPrev().setNext(p.getNext())\n",
    "    p.getNext().setPrev(p.getPrev))\n",
    "    p.setPrev(null)\n",
    "    p.setNext(null)\n",
    "    return t"
   ]
  },
  {
   "cell_type": "markdown",
   "metadata": {},
   "source": [
    "### Performance\n",
    "- In the implementation of the Positional-List ADT by means of a doubly linked list, the space used by a list with n elements is O(n).\n",
    "- All the operations of the Positional-List ADT `size()`, `isEmpty()`, `addFirst(e)`, `addLast(e)`, `addBefore(p, e)`, `addAfter(p, e)`, `set(p, e)`, `remove(p)` run in O(1) time."
   ]
  },
  {
   "cell_type": "markdown",
   "metadata": {},
   "source": [
    "## Sequence ADT\n",
    "- Combines the Array-List and Positional-List ADT providing all of its operations plus **bridge methods**.\n",
    "- Adds methods that **bridge between index and positions**:\n",
    "    - `atIndex(i)` returns a position\n",
    "    - `indexOf(p)` returns an integer index\n",
    "\n",
    "### An Array-based Implementation\n",
    "- Circular array storing positions.\n",
    "- A position object stores:\n",
    "    - Element\n",
    "    - Index\n",
    "- f and l keep track of first and last positions.\n",
    "\n",
    "### Insertion\n",
    "1. Create a node with data\n",
    "2. Make space in array and add new node\n",
    "3. Update rank of all nodes to include new node\n",
    "\n",
    "- `addFirst()`, `addBefore()`, `addAfter()`, `remove` are O(n).\n",
    "- `add(int, e)` and `remove(int, e)` are O(n).\n",
    "- Other methods are O(1).\n",
    "\n",
    "### Sequence Implementation with Doubly Linked List\n",
    "- All methods are inherited.\n",
    "- Bridges: `atIndex(i)`, `indexOf(p)`; O(n)"
   ]
  }
 ],
 "metadata": {
  "kernelspec": {
   "display_name": "Java (Rapaio Jupyter)",
   "language": "java",
   "name": "rapaio-jupyter-kernel"
  },
  "language_info": {
   "codemirror_mode": "java",
   "file_extension": ".jshell",
   "mimetype": "text/x-java-source",
   "name": "java",
   "nbconvert_exporter": "script",
   "pygments_lexer": "java",
   "version": "21.0.2+13-LTS-58"
  }
 },
 "nbformat": 4,
 "nbformat_minor": 2
}
