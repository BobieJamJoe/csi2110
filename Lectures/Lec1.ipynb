{
 "cells": [
  {
   "cell_type": "markdown",
   "metadata": {},
   "source": [
    "# Lecture 1\n",
    "## Data Structures\n",
    "\n",
    "### Array: main characteristics\n",
    "- For insertions and deletions at a specific position, other elements must be moved.\n",
    "- It is a static structure; when the array is full, the only way to add objects is to move every element to a new, larger array.\n",
    "- It provides direct access to the element at a given position.\n",
    "\n",
    "### Linked Structures\n",
    "- This is a dynamic structure: it is never full.\n",
    "- No movements of elements to insert or delete at a position.\n",
    "- Sequential access only; there is no direct access to an element since to go to a position the list has to be traversed."
   ]
  }
 ],
 "metadata": {
  "kernelspec": {
   "display_name": "Java (Rapaio Jupyter)",
   "language": "java",
   "name": "rapaio-jupyter-kernel"
  },
  "language_info": {
   "name": "java"
  }
 },
 "nbformat": 4,
 "nbformat_minor": 2
}
