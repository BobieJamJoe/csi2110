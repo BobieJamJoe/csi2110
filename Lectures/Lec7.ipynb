{
 "cells": [
  {
   "cell_type": "markdown",
   "metadata": {},
   "source": [
    "# Trees (cont.)\n",
    "## Binary Trees\n",
    "### Properties of the Height\n",
    "- Binary: h <= log(n + 1) - 1\n",
    "- Binary - Full: log(n + 1) - 1 <= h <= (n - 1)/2\n",
    "- Binary - Complete: n >= 2<sup>h</sup>, h = floor(log(n))\n",
    "- Binary - Perfect: n = 2<sup>h + 1</sup> - 1, h = log(n + 1) - 1\n",
    "\n",
    "### ADTs for Trees\n",
    "- Generic container methods:\n",
    "    - `size()`, `isEmpty()`, `elements()`\n",
    "- Positional container methods:\n",
    "    - `positions()`, `swapElements(p, q)`, `replaceElement(p, e)`\n",
    "- Query methods:\n",
    "    - `isRoot(p)`, `isInternal(p)`, `isExternal(p)`\n",
    "- Accessor methods:\n",
    "    - `root()`, `parent(p)`, `children(p)`\n",
    "- Update methods:\n",
    "    - Application specific\n",
    "\n",
    "### ADTs for Binary Trees\n",
    "- Accessor methods:\n",
    "    - `leftChild(p)`, `rightChild(p)`, `sibling(p)`\n",
    "- Update methods:\n",
    "    - `expandExternal(p)`, `removeAboveExternal(p)`\n",
    "- Other application specific methods.\n",
    "\n",
    "### Traversing Binary Trees\n",
    "- Refer to the place of the parent relative to the children.\n",
    "- Pre-order is before: parent, child, child.\n",
    "- Post-order is after: child, child, parent.\n",
    "- In-order is in between: child, parent, child."
   ]
  },
  {
   "cell_type": "raw",
   "metadata": {
    "vscode": {
     "languageId": "raw"
    }
   },
   "source": [
    "Algorithm preOrder(T, v)\n",
    "    visit(v)\n",
    "    if v is internal:\n",
    "        preOrder(T, T.leftChild(v))\n",
    "        preOrder(T, T.rightChild(v))"
   ]
  },
  {
   "cell_type": "raw",
   "metadata": {
    "vscode": {
     "languageId": "raw"
    }
   },
   "source": [
    "Algorithm postOrder(T, v)\n",
    "    if v is internal:\n",
    "        postOrder(T, T.leftChild(v))\n",
    "        postOrder(T, T.rightChild(v))\n",
    "    visit(v)"
   ]
  },
  {
   "cell_type": "raw",
   "metadata": {},
   "source": [
    "Algorithm inOrder(T, v)\n",
    "    if v is internal:\n",
    "        inOrder(T, T.leftChild(v))\n",
    "    visit(v)\n",
    "    if v is internal:\n",
    "        inOrder(T, T.rightChild(v))"
   ]
  },
  {
   "cell_type": "markdown",
   "metadata": {},
   "source": [
    "### Evaluate Arithmetic Expressions\n",
    "- Specialization of a *postorder* traversal.\n",
    "    - Recursive method returning the value of a subtree.\n",
    "    - When visiting an internal node, combine the values of the subtrees."
   ]
  },
  {
   "cell_type": "raw",
   "metadata": {
    "vscode": {
     "languageId": "raw"
    }
   },
   "source": [
    "Algorithm evalExpr(v)\n",
    "    if isExternal(v)\n",
    "        return v.element()\n",
    "    else\n",
    "        x <- evalExpr(leftChild(v))\n",
    "        y <- evalExpr(rightChild(v))\n",
    "        o <- operator stored at v\n",
    "        return x o y"
   ]
  },
  {
   "cell_type": "markdown",
   "metadata": {},
   "source": [
    "### Print Arithmetic Expressions\n",
    "- Specialization of an *inorder* traversal.\n",
    "    - Print operand or operator when visiting node.\n",
    "    - Print \"(\" before traversing left subtree.\n",
    "    - Print \")\" after traversing right subtree."
   ]
  },
  {
   "cell_type": "raw",
   "metadata": {
    "vscode": {
     "languageId": "raw"
    }
   },
   "source": [
    "Algorithm printInOrder(v)\n",
    "    if isInternal(v)\n",
    "        print(\"(\")\n",
    "        printInOrder(leftChild(v))\n",
    "    print(v.element())\n",
    "    if isInternal(v)\n",
    "        printInOrder(rightChild(v))\n",
    "        print(\")\")"
   ]
  },
  {
   "cell_type": "raw",
   "metadata": {
    "vscode": {
     "languageId": "raw"
    }
   },
   "source": [
    "Algorithm preOrderTraversalWithStack(T)\n",
    "    Stack S\n",
    "    TreeNode N\n",
    "\n",
    "    S.push(T) // push the reference to T in the empty stack\n",
    "    while (not S.empty())\n",
    "        N = S.pop()\n",
    "        if (N != null)\n",
    "            print(N.elem)           // print information\n",
    "            S.push(N.rightChild)    // push the reference to the right child\n",
    "            S.push(N.leftChild)     // push the reference to the left child"
   ]
  },
  {
   "cell_type": "markdown",
   "metadata": {},
   "source": [
    "### Euler Tour Traversal\n",
    "- Generic traversal of a binary tree.\n",
    "- Includes a special cases the preorder, postorder, and inorder traversal.\n",
    "- Walk around the tree and visit each node three times:\n",
    "    - on the left (preorder)\n",
    "    - from below (inorder)\n",
    "    - on the right (postorder)"
   ]
  },
  {
   "cell_type": "raw",
   "metadata": {
    "vscode": {
     "languageId": "raw"
    }
   },
   "source": [
    "Algorithm eulerTour(T, v)\n",
    "    leftVisit v\n",
    "    if v is internal:\n",
    "        eulerTour(T, T.leftChild(v))\n",
    "    belowVisit v\n",
    "    if v is internal:\n",
    "        eulerTour(T, T.rightChild(v))\n",
    "    rightVisit v"
   ]
  },
  {
   "cell_type": "markdown",
   "metadata": {},
   "source": [
    "### Implementing Binary Trees with a Linked Structure\n",
    "- A node is represented by an object storing:\n",
    "    - Element\n",
    "    - Parent node\n",
    "    - Left child node\n",
    "    - Right child node\n",
    "- Node objects implement the Position ADT.\n",
    "\n",
    "### BTNode ADT"
   ]
  },
  {
   "cell_type": "raw",
   "metadata": {
    "vscode": {
     "languageId": "raw"
    }
   },
   "source": [
    "left(v) return v.left\n",
    "right(v) returnv.right\n",
    "\n",
    "swapElements(v, w)\n",
    "    temp <- w.element\n",
    "    w.element <- v.element\n",
    "    v.element <- temp\n",
    "\n",
    "sibling(v)\n",
    "    p <- parent(v)\n",
    "    q <- left(p)\n",
    "    if (v = q) return right(p)\n",
    "    else return q\n",
    "\n",
    "replaceElement(v, obj)\n",
    "    temp <- v.element\n",
    "    v.element <- obj\n",
    "    return temp"
   ]
  },
  {
   "cell_type": "markdown",
   "metadata": {},
   "source": [
    "- `leftChild(p)`, `rightChild(p)`, `sibling(p)`, `swapElements(p, q)`, `replaceElement(p, e)`, `isRoot(p)`, `isInternal(p)`, `isExternal(p)`, are all O(1).\n",
    "\n",
    "### Other Methods for Binary Tree ADT\n",
    "- `expandExternal(v)`: Transform v from an external node into an internal node by creating two new children."
   ]
  },
  {
   "cell_type": "raw",
   "metadata": {
    "vscode": {
     "languageId": "raw"
    }
   },
   "source": [
    "Algorithm expandExternal(v):\n",
    "    if isExternal(v)\n",
    "        create new nodes new1 and new2\n",
    "        v.left <- new1\n",
    "        v.right <- new2\n",
    "        size <- size + 2"
   ]
  },
  {
   "cell_type": "raw",
   "metadata": {
    "vscode": {
     "languageId": "raw"
    }
   },
   "source": [
    "Algorithm removeAboveExternal(v):\n",
    "    if isExternal(v) and (size >= 3)\n",
    "        p <- parent(v)\n",
    "        s <- sibling(v)\n",
    "        if isRoot(p)\n",
    "            s.parent <- null\n",
    "            root <- s\n",
    "        else\n",
    "            g <- parent(p)\n",
    "            if p is leftChild(g)\n",
    "                g.left <- s\n",
    "            else\n",
    "                g.right <- s\n",
    "            s.parent <- g\n",
    "        size <- size - 2"
   ]
  },
  {
   "cell_type": "markdown",
   "metadata": {},
   "source": [
    "### Implemented Binary Trees with ArrayList\n",
    "\n",
    "![Binary Tree with ArrayList](./Resources/ArrayListBinTree.png)\n",
    "\n"
   ]
  }
 ],
 "metadata": {
  "kernelspec": {
   "display_name": "Java (Rapaio Jupyter)",
   "language": "java",
   "name": "rapaio-jupyter-kernel"
  },
  "language_info": {
   "name": "java"
  }
 },
 "nbformat": 4,
 "nbformat_minor": 2
}
