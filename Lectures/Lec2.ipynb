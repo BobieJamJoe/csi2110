{
 "cells": [
  {
   "cell_type": "markdown",
   "metadata": {},
   "source": [
    "# Analysis of Algorithms\n",
    "## Intro to Analysis of Algorithms\n",
    "\n",
    "- An **algorithm** is a step-by-step procedure for solving a problem in a finite amount of time.\n",
    "- Analyze an algorihtm = determine its efficiency.\n",
    "\n",
    "### Efficiency\n",
    "- Running time\n",
    "- Memory\n",
    "\n",
    "### Running Time\n",
    "- The running time of an algorithm typically grows with the input size.\n",
    "- It also depends on the input data; different inputs of the same size can have different running times.\n",
    "- **Average case** time if often difficult to determine.\n",
    "- We focus on the **worst case** running time.\n",
    "    - Easier to analyze.\n",
    "    - Crucial to applications such as games, finance, and robotics.\n",
    "\n",
    "### Experimental Studies\n",
    "- Write a program implementing the algorithm.\n",
    "- Run the program with inputs of varying size and composition, noting the time needed.\n",
    "- Plot the results.\n",
    "\n",
    "### Limitations of Experiments\n",
    "- It is necessary to implement the algorithm, which may be difficult.\n",
    "- Results may not be indicative of the running time on other inputs not included in the experiment.\n",
    "- In order to compare two algorithms, the same hardware and software environments must be used.\n",
    "\n",
    "### Theoretical Analysis\n",
    "- It is a **general methodology** that:\n",
    "    - Uses a **high-level description** of the algorithm (**pseudo-code**) independent of implementation.\n",
    "    - Characterizes running time as **a function of the input size**.\n",
    "    - Takes into account **all possible inputs**.\n",
    "    - Is **independent of the hardware and software** environment.\n",
    "\n",
    "### Pseudo-code Details\n",
    "- Control flow\n",
    "    - if... then... [else...]\n",
    "    - while... do...\n",
    "    - repeat... until...\n",
    "    - for... do...\n",
    "    - Indentation replaces braces.\n",
    "- Method declaration\n",
    "    - Algorithm *method (arg [, arg...])*\n",
    "    - Input... Output...\n",
    "- Method call\n",
    "    - *method(arg [, arg...])*\n",
    "- Return value\n",
    "    - **return** *expression**\n",
    "- Expressions:\n",
    "    - ¬ Assignment\n",
    "    - = Equality testing\n",
    "    - n<sup>2</sup> superscripts and other mathematical formatting allowed."
   ]
  },
  {
   "cell_type": "code",
   "execution_count": 1,
   "metadata": {},
   "outputs": [],
   "source": [
    "public static double arrayMax(double[] data) {\n",
    "    int n = data.length;\n",
    "    double currentMax = data[0];\n",
    "    for (int j = 1; j < n; j++)\n",
    "        if (data[j] > currentMax)\n",
    "            currentMax = data[j];\n",
    "    return currentMax;\n",
    "}"
   ]
  },
  {
   "cell_type": "raw",
   "metadata": {
    "vscode": {
     "languageId": "raw"
    }
   },
   "source": [
    "Algorithm arrayMax(A, n):\n",
    "    Input: An array A storing n integers.\n",
    "    Output: The maximum element in A.\n",
    "currentMax <- A[0]\n",
    "for i <- 1 to n-1 do\n",
    "    if currentMax < A[i] then\n",
    "        currentMax <- A[i]\n",
    "return currentMax"
   ]
  },
  {
   "cell_type": "markdown",
   "metadata": {},
   "source": [
    "### The Random Access Machine (RAM) Model\n",
    "- A RAM consists of\n",
    "    - A CPU\n",
    "    - A potentially unbounded bank of **memory** cells, each of which can hold an arbitrary number or character.\n",
    "    - Memory cells are numbered and accessing any cell in memory takes unit time.\n",
    "\n",
    "### Primitive Operations\n",
    "- Basic computations performed by an algorithm.\n",
    "- Identifiable in pseudocode.\n",
    "- Largely independent from te programming language.\n",
    "- Exact definition not important.\n",
    "- Assumed to take a constant amount of time in the RAM model."
   ]
  },
  {
   "cell_type": "raw",
   "metadata": {
    "vscode": {
     "languageId": "raw"
    }
   },
   "source": [
    "Algorithm arrayMax(A, n):\n",
    "    Input: An array A storing n integers.\n",
    "    Output: The maximum element in A.\n",
    "currentMax <- A[0]                          Step 1: 2 ops\n",
    "for i <- 1 to n-1 do                        Step 2: 2n ops\n",
    "    if currentMax < A[i] then               Step 3: 2(n-1) ops\n",
    "        currentMax <- A[i]                  Step 4: 0 to 2(n-1) ops\n",
    "return currentMax                           Step 5: 1 ops"
   ]
  },
  {
   "cell_type": "markdown",
   "metadata": {},
   "source": [
    "Best case running time:\n",
    "- n-1 comparisons\n",
    "- 1 assignment\n",
    "- Total: 4n+1 primitive operations\n",
    "\n",
    "Worst case running time:\n",
    "- n-1 comparisons\n",
    "- n assignments\n",
    "- Total: 6n-1 primitive operations\n",
    "\n",
    "### Summary so far\n",
    "- We use **theoretical analysis** of the algorithm.\n",
    "- We mostly focus on **worst-case running time**, but sometimes consider best-case or average-case running times.\n",
    "- We cometimes refer to worst case running time as the **complexity** of an algorithm.\n",
    "- The analysis is based on **pseudocode**.\n",
    "- We use the Random Access Machine (RAM) model to measure **primitive operations**.\n",
    "\n",
    "## Asymptotic Analysis: Growth Rate and Big-O Notation\n",
    "### Estimating Running Time\n",
    "- Algorithm `arrayMax` executes 6n-1 primitive operations in the worst case, 4n+1 in the best case. Define:\n",
    "    - a = Time taken by the fastest primitive operation\n",
    "    - b = Time taken by the slowest primitive operation\n",
    "- Let T(n) be worst-case time of `arrayMax`. Then, \n",
    "\n",
    "a(4n+1) <= T(n) <= b(6n-1)\n",
    "\n",
    "- Hence, the running time T(n) is bounded by two linear functions.\n",
    "\n",
    "### Growth Rate of Running Time\n",
    "- Changing the hardware/software environment\n",
    "    - Affects T(n) by a constant factor, but\n",
    "    - Does not alter the growth rate of T(n)\n",
    "- The linear growth rate of the running time T(n) is an intrinsic property of the running time T(n) is an intrinsic property of algorithm `arrayMax`.\n",
    "\n",
    "### Why Growth Rate Matters\n",
    "![Growth Rate Table](./Resources/GrowthRateTable.png)\n",
    "\n",
    "### Comparison of Two Algorithms\n",
    "- Insertion sort is n<sup>2</sup>/4\n",
    "- Merge sort is 2*n*lg(n)\n",
    "- When sorting 1000000 items:\n",
    "    - Insertion sort takes roughly 70 hours.\n",
    "    - Merge sort takes roughly 40 seconds.\n",
    "\n",
    "### Constant Factors\n",
    "- The growth rate is not affected by:\n",
    "    - Constant factors or\n",
    "    - lower-order terms\n",
    "\n",
    "### Big-O (upper bound)\n",
    "Given two functions f(n) and g(n), we say that \n",
    "\n",
    "        f(n) is O(g(n))\n",
    "\n",
    "if and only if there are positive constants `c` and `n0` such that\n",
    "\n",
    "        f(n) <= c*g(n) for all n >= n0\n",
    "\n",
    "![Function Graph](./Resources/FunctionGraph1.png)"
   ]
  },
  {
   "cell_type": "markdown",
   "metadata": {},
   "source": [
    "### Big-O and Growth Rate\n",
    "- The big-O notation gives an upper bound on the growth rate or a function.\n",
    "- The statement \"f(n) is O(g(n))\" means that the growth rate of f(n) is no more than the growth rate of g(n).\n",
    "- We can use the big-O notation to rank functions according to their growth rate.\n",
    "\n",
    "| - | f(n) is O(g(n)) | g(n) is O(f(n)) |\n",
    "| ----- | ----- | ----- |\n",
    "| g(n) grows more | Yes | No |\n",
    "| f(n) grows more | No | Yes |\n",
    "| Same growth | Yes| Yes|"
   ]
  }
 ],
 "metadata": {
  "kernelspec": {
   "display_name": "Java (Rapaio Jupyter)",
   "language": "java",
   "name": "rapaio-jupyter-kernel"
  },
  "language_info": {
   "codemirror_mode": "java",
   "file_extension": ".jshell",
   "mimetype": "text/x-java-source",
   "name": "java",
   "nbconvert_exporter": "script",
   "pygments_lexer": "java",
   "version": "21.0.2+13-LTS-58"
  }
 },
 "nbformat": 4,
 "nbformat_minor": 2
}
