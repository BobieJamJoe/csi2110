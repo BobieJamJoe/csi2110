{
 "cells": [
  {
   "cell_type": "markdown",
   "metadata": {},
   "source": [
    "# Heaps (cont.)\n",
    "## Implementation of a Priority Queue ADT with a Heap\n",
    "\n",
    "| Method | Time Complexity |\n",
    "| ----- | ----- |\n",
    "| `insert()` | O(logn) |\n",
    "| `min()` | O(1) |\n",
    "| `removeMin()` | O(logn) |\n",
    "\n"
   ]
  },
  {
   "cell_type": "markdown",
   "metadata": {},
   "source": [
    "## Heap Construction\n",
    "- We could insert the items one at a time with a sequence of Heap Insertions: &#931;<sup>n</sup><sub>k = 1</sub>logk = O(n*logn)\n",
    "- It is possible to build a heap in O(n).\n",
    "\n",
    "### Bottom-up Heap Construction\n",
    "- We can construct a heap storing n given keys using a bottom-up construction.\n",
    "- We recursively re-arrange each sub-tree in the heap starting with the leaves.\n",
    "\n",
    "![Bottom-Up Heap Construction Example](./Resources/BottomUpHeapExample1-1.png)\n",
    "![Bottom-Up Heap Construction Example](./Resources/BottomUpHeapExample1-2.png)\n",
    "![Bottom-Up Heap Construction Example](./Resources/BottomUpHeapExample1-3.png)\n",
    "\n",
    "### Analysis of Heap Construction\n",
    "\n",
    "&#931; 2<sup>-j</sup> = 1/2 + 1/4 + 1/8 + 1/16 + ... <= 1\n",
    "\n",
    "![Number of swaps](./Resources/HeapConsructionAnalysis.png)\n",
    "\n",
    "- At level i, the number of swaps is <= h - i for each node.\n",
    "- At level i, there are <= 2<sup>i</sup> nodes.\n",
    "- Total number of swaps <= &#931;<sup>h</sup><sub>i = 0</sub> (h - i)*2<sup>i</sup>"
   ]
  },
  {
   "cell_type": "markdown",
   "metadata": {},
   "source": [
    "Let j = h - i, then i = h - j and \n",
    "\n",
    "&#931;<sup>h</sup><sub>i = 0</sub> (h - i)*2<sup>i</sup> = &#931;<sup>h</sup><sub>j = 0</sub> j\\*2<sup>h - j</sup> = 2<sup>h</sup> &#931;<sup>h</sup><sub>j = 0</sub> j\\*2<sup>-j</sup>\n",
    "\n",
    "Consider &#931; j*2<sup>-j</sup>:\n",
    "\n",
    "&#931; j*2<sup>-j</sup> = 1/2 + 2\\*(1/4) + 3\\*(1/8) + ...\n",
    "\n",
    "= (1/2) + (1/4) + (1/8) + (1/16) + ... <= 1\n",
    "\n",
    "\\+ (1/4) + (1/8) + (1/16) + ... <= (1/2)\n",
    "\n",
    "\\+ (1/8) + (1/16) + ... <= (1/4)\n",
    "\n",
    "<= 2\n",
    "\n",
    "-> &#931; j*2<sup>-j</sup> <= 2\n",
    "\n",
    "So, 2<sup>h</sup> &#931; j\\*2<sup>-j</sup> <= 2\\*2<sup>h</sup> = 2n is O(n)"
   ]
  },
  {
   "cell_type": "markdown",
   "metadata": {},
   "source": [
    "## Implementing a Heap with an Array\n",
    "- A heap can be nicely represented by an array list (array-based), where the node at rank i has:\n",
    "    - left child at rank 2i + 1\n",
    "    - right child at rank 2i + 2\n",
    "- Note these are for if indices are from 0 to n - 1. Add 1 for 1 to n.\n",
    "\n",
    "![Array list heap example](./Resources/ArrayListHeapExample.png)\n",
    "\n",
    "### Indices 1 to n:\n",
    "\n",
    "| Position | Formula |\n",
    "| ----- | ----- |\n",
    "| Left child of T[i] | T[2i] if 2i <= n |\n",
    "| Right child of T[i] | T[2i + 1] if 2i + 1 <= n |\n",
    "| Parent of T[i] | T[i div 2] if i > 1 |\n",
    "| The Root | T[1] if n > 0 |\n",
    "| Leaf? T[i] | TRUE if 2i > n |\n",
    "\n",
    "### Indices 0 to n - 1:\n",
    "\n",
    "| Position | Formula |\n",
    "| ----- | ----- |\n",
    "| Left child of T[i] | T[2i + 1] if 2i + 1 <= n - 1 |\n",
    "| Right child of T[i] | T[2i + 2] if 2i + 2 <= n - 1 |\n",
    "| Parent of T[i] | T[(i - 1) div 2] if i > 0 |\n",
    "| The Root | T[0] if n > 0 |\n",
    "| Leaf? T[i] | TRUE if 2i + 1 > n - 1 |"
   ]
  },
  {
   "cell_type": "markdown",
   "metadata": {},
   "source": [
    "## Implemtation of a Heap with a Linked Binary Tree\n",
    "\n",
    "![Linked Binary Tree Heap Example](./Resources/LinkedBinaryTreeHeapExample.png)"
   ]
  },
  {
   "cell_type": "markdown",
   "metadata": {},
   "source": [
    "## Sorting Heapsort\n",
    "- `PriorityQueueSort()` where the PQ is implemented with a heap."
   ]
  },
  {
   "cell_type": "raw",
   "metadata": {
    "vscode": {
     "languageId": "raw"
    }
   },
   "source": [
    "Algorithm PriorityQueueSort(S, P):\n",
    "Input: A sequence S storing n elements, on which a total order\n",
    "relation is defined, and a Priority Queue P that compares keys\n",
    "with the same relation.\n",
    "Output: The Sequence S sorted by the total order relation.\n",
    "\n",
    "// Build heap\n",
    "while !S.isEmpty() do\n",
    "    e <- S.removeFirst()\n",
    "    P.insert(e, e)\n",
    "\n",
    "// Remove from heap\n",
    "while !P.isEmpty() do\n",
    "    e <- P.removeMin()\n",
    "    S.insertLast(e)"
   ]
  },
  {
   "cell_type": "markdown",
   "metadata": {},
   "source": [
    "- Construct initial heap: O(n)\n",
    "- n times:\n",
    "    - Remove root: O(1)\n",
    "    - Re-arrange: O(logn)\n",
    "    - Remove root: O(1)\n",
    "    - Re-arrange: O(log(n-1))\n",
    "\n",
    "- When there are i nodes left in the PQ: floor(logi)\n",
    "\n",
    "-> TOT = &#931;<sup>n</sup><sub>i = 1</sub> floor(logi)\n",
    "\n",
    "= O(n*logn)"
   ]
  },
  {
   "cell_type": "markdown",
   "metadata": {},
   "source": [
    "### Heapsort in Place\n",
    "- Instead of using a secondary data structure P to sort a sequence S, we can execute heapsort *in place* by dividing S in two parts, one representing the heap, and the other representing the sequence. The algorithm is executed in two phases:\n",
    "    - Phase 1: We build a max-heap so to occupy the whole structure.\n",
    "    - Phase 2: We start with the part *sequence* empty and we grow it by removing at each step i (i = 1..n) the max value from the heap and by adding it to the part *sequence*, always maintaining the heap properties for the part *heap*."
   ]
  },
  {
   "cell_type": "raw",
   "metadata": {
    "vscode": {
     "languageId": "raw"
    }
   },
   "source": [
    "Algorithm heapsort(A, n)\n",
    "Input: An unordered array A of length n\n",
    "\n",
    "    heapify(A, n)   // in O(n) with bottom-up heap construction\n",
    "\n",
    "    // Loop Invariant: A[0:end] is a heap; A[end+1:n-1] is sorted\n",
    "    end <- n - 1\n",
    "    while end > 0 do\n",
    "        swap(A[end], A[0])\n",
    "        end <- end - 1\n",
    "        downheap(A, 0, end);"
   ]
  },
  {
   "cell_type": "raw",
   "metadata": {
    "vscode": {
     "languageId": "raw"
    }
   },
   "source": [
    "Algorithm downheap(A, start, end)\n",
    "\n",
    "    root <- start\n",
    "    while root*2 + 1 <= end do  // While the root has at least one child\n",
    "        child <- root*2 + 1 // Left child\n",
    "        swap <- root    // Keeps track of child to swap with\n",
    "        if A[swap] < A[child]\n",
    "            swap <- child\n",
    "        // If there is a right child and that child is greater\n",
    "        if child + 1 <= end and A[swap] < A[child + 1]\n",
    "            swap <- child + 1\n",
    "        if swap = root \n",
    "            // case in which we are done with downheap\n",
    "            return\n",
    "        else\n",
    "            swap(A[root], A[swap])\n",
    "            root <- swap    // repeat to continue downheap the child now"
   ]
  },
  {
   "cell_type": "raw",
   "metadata": {
    "vscode": {
     "languageId": "raw"
    }
   },
   "source": [
    "Algorithm heapify(A, n)\n",
    "    // start is assigned the index in 'A' of the last parent node\n",
    "    // the last element in a 0-based array is at index n - 1;\n",
    "    // find the parent of that element\n",
    "    start <- floor((n - 2)/2)\n",
    "\n",
    "    while start >= 0 do\n",
    "        // downheap the node at index 'start' to the proper place\n",
    "        downheap(A, start, n - 1)\n",
    "        // go to the next parent node\n",
    "        start <- start - 1\n",
    "    \n",
    "    // after this loop array A is a heap"
   ]
  }
 ],
 "metadata": {
  "kernelspec": {
   "display_name": "Java (Rapaio Jupyter)",
   "language": "java",
   "name": "rapaio-jupyter-kernel"
  },
  "language_info": {
   "name": "java"
  }
 },
 "nbformat": 4,
 "nbformat_minor": 2
}
