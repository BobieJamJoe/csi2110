{
 "cells": [
  {
   "cell_type": "markdown",
   "metadata": {},
   "source": [
    "# Maps and Sorted Maps; Binary Search Trees\n",
    "## MAP Operations using BST\n",
    "### Deletion I\n",
    "- To perform operation `remove(k)`, we search for key k.\n",
    "- Assume key k is in the tree, and let v be the node storing k.\n",
    "- If node v has a leaf child w, we remove v and w from the tree with operation `removeAboveExternal(w)`"
   ]
  },
  {
   "cell_type": "raw",
   "metadata": {
    "vscode": {
     "languageId": "raw"
    }
   },
   "source": [
    "Algorithm removeAboveExternal(v):\n",
    "    if isExternal(v)\n",
    "        p <- parent(v)\n",
    "        s <- sibling(v)\n",
    "        if isRoot(p)\n",
    "            s.parent <- null\n",
    "            root <- s\n",
    "        else\n",
    "            g <- parent(p)\n",
    "            if p is leftChild(g)\n",
    "                g.left <- s\n",
    "            else\n",
    "                g.right <- s\n",
    "        size <- size - 2"
   ]
  },
  {
   "cell_type": "markdown",
   "metadata": {},
   "source": [
    "\n",
    "![removeAboveExternal Example](./Resources/removeAboveExternalExample.png)"
   ]
  },
  {
   "cell_type": "markdown",
   "metadata": {},
   "source": [
    "### Deletion II\n",
    "- We consider the case where the key k to be removed is stored at a node p *whose children are both internal*.\n",
    "- We find the internal node w that follows p in an inorder traversal.\n",
    "- We copy entry(w) into node p.\n",
    "- We remove node w and its left child z (which must be a leaf) by means of `removeAboveExternal(z)`."
   ]
  },
  {
   "cell_type": "markdown",
   "metadata": {},
   "source": [
    "### Cost of Inserting and Deleting\n",
    "**Summary**:\n",
    "- Consider a dictionary with n items implemented by means of a binary search tree of height h.\n",
    "    - The space used is O(n)\n",
    "    - Methods `findElement`, `insertItem`, and `removeElement` take O(h) time.\n",
    "- The height h is O(n) in the worst case and O(logn) in the best case.\n",
    "- To achieve a good running time, we need to keep the tree **balanced**, i.e., with O(logn) height."
   ]
  }
 ],
 "metadata": {
  "kernelspec": {
   "display_name": "Java (Rapaio Jupyter)",
   "language": "java",
   "name": "rapaio-jupyter-kernel"
  },
  "language_info": {
   "name": "java"
  }
 },
 "nbformat": 4,
 "nbformat_minor": 2
}
