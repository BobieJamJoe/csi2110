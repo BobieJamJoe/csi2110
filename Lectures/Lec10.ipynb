{
 "cells": [
  {
   "cell_type": "markdown",
   "metadata": {},
   "source": [
    "# Maps and Sorted Maps; Binary Search Trees\n",
    "## Map ADT\n",
    "- A MAP is an ADT to efficiently store and retrieve values based on a uniquely identifying **search key**.\n",
    "-  It stores key-value pairs (k, v), which we call **entries**.\n",
    "- Keys are unique. A key is mapped to a value.\n",
    "- The main operations of a MAP are **searching**, **inserting**, and **deleting** items.\n",
    "- Maps are also known as **associated arrays**.\n",
    "\n",
    "### MAP ADT Methods\n",
    "- `get(k)`: returns the value v associated to key k, if such entry exists; otherwise returns null.\n",
    "- `put(k, v)`: if M does not have an entry with key k, then adds (k, v) and returns null; otherwise it replaces with v the value of the entry with key equal to k and returns the old value.\n",
    "- `remove(k)`: removes from M the enrty with key k and returns its value; if M has no such entry, then returns null.\n",
    "- `size()`: returns the number of entries in M.\n",
    "- `isEmpty()`: boolean indicating if M is empty.\n",
    "- `keySet()`, `values()`, `entrySet()` returns an iterable collection of keys, values, key-value entries (respectively) stored in M.\n",
    "\n",
    "### Sorted MAP ADT Methods\n",
    "- In addition to the MAP methods.\n",
    "- `firstEntry()`, `lastEntry()`: returns the entry with smallest key, alrgest key (respectively), or null if the map is empty.\n",
    "- `subMap(k1, k2)`: returns an iterable list with all the entries greater than or equal to k1, but strictly less than k2.\n",
    "- `lowerEntry(k)`, `higherEntry(k)`, `floorEntry(k)`, `ceilingEntry(k)`: return the entry with, respectively:\n",
    "    - the greatest key < k, the smallest key > k,\n",
    "    - the greatest key <= k, the smallest key >= k\n",
    "\n",
    "## Implementing MAPs\n",
    "- Using an unordered sequence.\n",
    "- Using an ordered sequence.\n",
    "- Using search trees (BST, AVL, etc.)\n",
    "- Using Hash Table\n",
    "\n",
    "## Implementing SORTED MAPS\n",
    "- Using an ordered sequence.\n",
    "- Using search trees (BST, AVL, etc.)"
   ]
  },
  {
   "cell_type": "markdown",
   "metadata": {},
   "source": [
    "### Implementing MAPS with an Unordered Sequence\n",
    "- Unordered sequence.\n",
    "- get, remove, and put takes O(n) time.\n",
    "- The insert part takes O(1) time, but we need first to search for key duplicate which takes O(n).\n",
    "\n",
    "### Implementing MAPS with an Ordered Sequence\n",
    "- Array-based ordered sequence (assumes keys can be ordered).\n",
    "- Searching takes O(logn) time (binary search).\n",
    "- Inserting and removing takes O(n) time.\n",
    "- Application to look-up tables (frequence searches, rare insertions and removals).\n",
    "\n",
    "## Binary Search\n",
    "- Narrow down the search range in stages.\n",
    "- \"High-low\" game."
   ]
  },
  {
   "cell_type": "raw",
   "metadata": {
    "vscode": {
     "languageId": "raw"
    }
   },
   "source": [
    "Algorithm BinarySearch(S, k, low, high)\n",
    "    if low > high then\n",
    "        return NO_SUCH_KEY\n",
    "    else \n",
    "        mid <- (low + high) / 2\n",
    "        if k = key(mid) then\n",
    "            return key(mid)\n",
    "        else if k < key(mid) then\n",
    "            return BinarySearch(S, k, low, mid-1)\n",
    "        else\n",
    "            return BinarySearch(S, k, mid+1, high)"
   ]
  },
  {
   "cell_type": "markdown",
   "metadata": {},
   "source": [
    "- Binary search runs in O(logn) time"
   ]
  },
  {
   "cell_type": "markdown",
   "metadata": {},
   "source": [
    "## Binary Search Tree\n",
    "- A binary search tree is a binary tree T such that:\n",
    "    - each internal node p stores an item(k, v) of a MAP;\n",
    "    -keys stored at nodes in the left subtree of p are less than k;\n",
    "    - keys stored at nodes in the right subtree of pa are greater than k;\n",
    "    - external nodes do not hold elements but serve as placeholders (dummy leaves).\n",
    "- In-order traversal of a BST traverses the keys in increasing order.\n",
    "\n",
    "## MAP Operations using BST\n",
    "- **Searching** `get(k)`: use `TreeSearch(k)`\n",
    "- **Inserting/updating value** `put(k, v)`: use `TreeInsert(k, v)`\n",
    "- **Removing** `remove(k)`: use `TreeDelete(k)`\n",
    "\n",
    "### Search\n",
    "- To search for a key k, we trace a downward path starting at the root.\n",
    "- The next node visited depends on the outcome of the comparison of k with the key of the current node.\n",
    "- If a leaf is reached, the key is not found and the dummy leaf is returned which will help with insertion if needed."
   ]
  },
  {
   "cell_type": "raw",
   "metadata": {
    "vscode": {
     "languageId": "raw"
    }
   },
   "source": [
    "Algorithm TreeSearch(k)\n",
    "    TreeSearch(root, k)\n",
    "\n",
    "Procedure TreeSearch(p, k)\n",
    "    if p is external then\n",
    "        return p (unsuccessful search)\n",
    "    else if k == key(p)\n",
    "        return p (successful search)\n",
    "    else if k < key(p)\n",
    "        return TreeSearch(left(p), k)\n",
    "    else (k > key(p))\n",
    "        return TreeSearch(right(p), k)"
   ]
  },
  {
   "cell_type": "markdown",
   "metadata": {},
   "source": [
    "### Cost of Search\n",
    "\n",
    "![Best and worst trees for BST](./Resources/BSTBestAndWorstTree.png)\n",
    "\n",
    "- Worst case (worst tree): O(n)\n",
    "- Average worst case (worst tree): (1 + 2 + 3 + 4 + ... + n)/n = (n + 1)/2 -> O(n)\n",
    "\n",
    "- Worst case (best tree): Leaves are on the same level or na adjacent level. Length of path from root to node i = floor(log(i)) -> O(logn)\n",
    "\n",
    "### Summary\n",
    "- Worst tree:\n",
    "    - Successful search: Worst case O(n), average case O(n)\n",
    "    - Unsuccessful search: Always O(n)\n",
    "- Best Tree:\n",
    "    - Successful search: Worst case O(logn), average case O(logn)\n",
    "    - Unsuccessful search: Always O(logn)"
   ]
  },
  {
   "cell_type": "markdown",
   "metadata": {},
   "source": [
    "### Insertion case 1\n",
    "- To perform `TreeInsert(k, v)`, let w be the node returned by `TreeSearch(l, T.root())`.\n",
    "- If w is external, we know that k is not stored in T. We call `expandExternal(w, (k, v))` to store (k, v) in w.\n",
    "- `expandExternal(p, (k, v))`: transform p from an external node into an internal node by creating two new children."
   ]
  },
  {
   "cell_type": "raw",
   "metadata": {
    "vscode": {
     "languageId": "raw"
    }
   },
   "source": [
    "Algorithm expandExternal(p, (k, v)):\n",
    "    if isExternal(p)\n",
    "        create new nodes new1 and new2\n",
    "        p.left <- new1\n",
    "        p.right <- new2\n",
    "        store entry (k, v) in p\n",
    "        size <- size + 2"
   ]
  },
  {
   "cell_type": "markdown",
   "metadata": {},
   "source": [
    "### Insertion case 2\n",
    "- If w is internal, we know the item with key k is stored at w. In this case, we just replace the value on this node to the given value v."
   ]
  },
  {
   "cell_type": "markdown",
   "metadata": {},
   "source": [
    "Algorithm TreeInsert(k, v):\n",
    "    p = TreeSearch(root(), k)\n",
    "    if k == key(p) then\n",
    "        change p's value to (v)\n",
    "    else\n",
    "        expandExternal(p, (k, v))"
   ]
  }
 ],
 "metadata": {
  "kernelspec": {
   "display_name": "Java (Rapaio Jupyter)",
   "language": "java",
   "name": "rapaio-jupyter-kernel"
  },
  "language_info": {
   "name": "java"
  }
 },
 "nbformat": 4,
 "nbformat_minor": 2
}
