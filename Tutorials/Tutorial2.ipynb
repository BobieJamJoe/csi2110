{
 "cells": [
  {
   "cell_type": "markdown",
   "metadata": {},
   "source": [
    "# Tutorial 2\n",
    "## Exercises\n",
    "### 1\n",
    "**Describe how to implement the stack ADT using a single queue as an instance variable, and only constant additional local memory within the method bodies. What is the running time of the `push()`, `pop()`, and `top()` methods for your design?**\n",
    "\n",
    "| Method | Time |\n",
    "| ----- | ----- |\n",
    "| `push()` | O(1) |\n",
    "| `pop()` | O(n) |\n",
    "| `top()` | O(n) |"
   ]
  },
  {
   "cell_type": "markdown",
   "metadata": {},
   "source": [
    "### 2\n",
    "**Describe how to use a single array to implement 2 stacks; make sure you do not limit the size of each stack to half the array capacity. For example, if capacity N = 100 I should be able to accommodate one stack of size 80 and another of size 20 before being full.**\n",
    "\n",
    "You could grow each stack from either end of the array. The bottom of stack1 will be at index 0, the bottom of stack2 will be at index n - 1. Tops will gradually become closer and closer together as the array fills up."
   ]
  },
  {
   "cell_type": "markdown",
   "metadata": {},
   "source": [
    "### 3\n",
    "**Suppose we are maintaining a collection C of elements such that, each time we add a new element to the collection, we copy the contents of C into a new array list of just the right size. What is the running time of adding n elements to an initially empty collection C in this case?**\n",
    "\n",
    "T(n) = 1 + 2 + 3 + ... + (n + 1)\n",
    "\n",
    "= (n + 1)(n + 2)/2\n",
    "\n",
    "T(n) is O(n<sup>2</sup>)"
   ]
  }
 ],
 "metadata": {
  "kernelspec": {
   "display_name": "Java (Rapaio Jupyter)",
   "language": "java",
   "name": "rapaio-jupyter-kernel"
  },
  "language_info": {
   "name": "java"
  }
 },
 "nbformat": 4,
 "nbformat_minor": 2
}
