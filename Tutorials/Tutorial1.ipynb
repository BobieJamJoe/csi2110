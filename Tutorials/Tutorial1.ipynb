{
 "cells": [
  {
   "cell_type": "markdown",
   "metadata": {},
   "source": [
    "# Tutorial 1\n",
    "\n",
    "f(n) = &#920;(g(n)) <-> f(n) = O(g(n)) AND g(n) = O(f(n))\n",
    "\n",
    "Proof:\n",
    "\n",
    "f(n) = &#920;(g(n)) -> &#8707;n<sub>0</sub>, c', c''; &#8704;n >= n<sub>0</sub>; c'*g(n) <= f(n) <= c''*g(n)\n",
    "\n",
    "m<sub>0</sub>, b > 0; &#8704;n >= m<sub>0</sub>; f(n) <= b*g(n)\n",
    "\n",
    "m<sub>0</sub> >= n<sub>0</sub>; f(n) <= c''*g(n) <= m*g(n)\n",
    "\n",
    "k<sub>0</sub>\n",
    "\n",
    "## Exercises\n",
    "1. Determine the (worst-case) complexity of `unique1` and `unique2` using the big-Oh notation; which algorithm is more efficient?\n",
    "2. Determine the big-Oh of the pieces of code: `example1`, ..., `example5` (textbook exercises: R-4.9, R.10, R.11, R.12, R.13)\n",
    "3. The number of operations executed by algorithms A and B is 40n<sup>2</sup> and 2n<sup>3</sup>, respectively. Determine n<sub>0</sub> such that A is better than B for all n >= n<sub>0</sub>.\n",
    "4. Prove that if d(n) is O(f(n)) and e(n) is O(g(n)), then d(n)+e(n) is O(f(n)+g(n))"
   ]
  },
  {
   "cell_type": "markdown",
   "metadata": {},
   "source": [
    "### 1.1 - Big-Oh of `unique1`"
   ]
  },
  {
   "cell_type": "code",
   "execution_count": 4,
   "metadata": {},
   "outputs": [],
   "source": [
    "public static boolean unique1(int[] data) {\n",
    "    int n = data.length;                        // 1\n",
    "    for (int j = 0; j < n - 1; j++)             // n\n",
    "        for (int k = j + 1; k < n; k++)         // (n-1)+(n-2)+...+2+1\n",
    "            if (data[j] == data[k])             // (n-1)+(n-2)+...+2+1\n",
    "                return false;                   // (n-1)+(n-2)+...+2+1\n",
    "    return true;                                //1\n",
    "}"
   ]
  },
  {
   "cell_type": "markdown",
   "metadata": {},
   "source": [
    "(n-1)+(n-2)+...+2+1 = n*(n-1)/2\n",
    "\n",
    "`unique1` is O(n<sup>2</sup>)\n",
    "\n",
    "### 1.2 Big-Oh of `unique2`"
   ]
  },
  {
   "cell_type": "code",
   "execution_count": 5,
   "metadata": {},
   "outputs": [],
   "source": [
    "public static boolean unique2(int[] data) {\n",
    "    int n = data.length;                        // 1\n",
    "    int[] temp = Arrays.copyOf(data, n);        // n\n",
    "    Arrays.sort(temp);                          // n*log(n)\n",
    "    for(int j = 0; j < n - 1; j++)              // n - 1\n",
    "        if (temp[j] == temp[j + 1])             // n - 1\n",
    "            return false;                       // n - 1\n",
    "    return true;                                // 1\n",
    "}"
   ]
  },
  {
   "cell_type": "markdown",
   "metadata": {},
   "source": [
    "`unique2` is O(n*log(n))\n",
    "\n",
    "Therefore, `unique2` is more time efficient than `unique1`\n",
    "\n",
    "### 2.1 - Example 1"
   ]
  },
  {
   "cell_type": "code",
   "execution_count": 6,
   "metadata": {},
   "outputs": [],
   "source": [
    "public static int example1(int[] arr) {\n",
    "    int n = arr.length, total = 0;      // 2\n",
    "    for (int j = 0; j < n; j++)         // n - 1\n",
    "        total += arr[j];                // n - 1\n",
    "    return total;                       // 1\n",
    "}"
   ]
  },
  {
   "cell_type": "markdown",
   "metadata": {},
   "source": [
    "`example1` is O(n)\n",
    "\n",
    "### 2.2 - Example 2"
   ]
  },
  {
   "cell_type": "code",
   "execution_count": 7,
   "metadata": {},
   "outputs": [],
   "source": [
    "public static int example2(int[] arr) {\n",
    "    int n = arr.length, total = 0;          // 2\n",
    "    for (int j = 0; j < n; j += 2)          // (n - 1)/2\n",
    "        total += arr[j];                    // (n - 1)/2\n",
    "    return total;                           // 1\n",
    "}"
   ]
  },
  {
   "cell_type": "markdown",
   "metadata": {},
   "source": [
    "`example2` is O(n)\n",
    "\n",
    "### 2.3 - Example 3"
   ]
  },
  {
   "cell_type": "code",
   "execution_count": 8,
   "metadata": {},
   "outputs": [],
   "source": [
    "public static int example3(int[] arr) {\n",
    "    int n = arr.length, total = 0;          // 2\n",
    "    for (int j = 0; j < n; j++)             // n\n",
    "        for (int k = 0; k <= j; k++)        // 0+1+2+...+(n-1)+n\n",
    "            total += arr[j];                // 0+1+2+...+(n-1)+n\n",
    "    return total;                           // 1\n",
    "}"
   ]
  },
  {
   "cell_type": "markdown",
   "metadata": {},
   "source": [
    "`example3` is O(n<sup>2</sup>)\n",
    "\n",
    "### 2.4 - Example 4"
   ]
  },
  {
   "cell_type": "code",
   "execution_count": 9,
   "metadata": {},
   "outputs": [],
   "source": [
    "public static int example4(int[] arr) {\n",
    "    int n = arr.length, prefix = 0, total = 0;      // 3\n",
    "    for (int j = 0; j < n; j++) {                   // n\n",
    "        prefix += arr[j];                           // n\n",
    "        total += prefix;                            // n\n",
    "    }\n",
    "    return total;                                   // 1\n",
    "}"
   ]
  },
  {
   "cell_type": "markdown",
   "metadata": {},
   "source": [
    "`example4` is O(n)\n",
    "\n",
    "### 2.5 - Example 5"
   ]
  },
  {
   "cell_type": "code",
   "execution_count": 10,
   "metadata": {},
   "outputs": [],
   "source": [
    "public static int example5(int[] first, int[] second) {\n",
    "    int n = first.length, count = 0;            // 2\n",
    "    for (int i = 0; i < n; i++) {               // n\n",
    "        int total = 0;                          // n\n",
    "        for (int j = 0; j < n; j++)             // n^2\n",
    "            for (int k = 0; k <= j; k++)        // (n^2(n + 1))/2\n",
    "                total += first[k];              // (n^2(n + 1))/2\n",
    "        if (second[i] == total) count++;        // n\n",
    "    }\n",
    "    return count;                               // 1\n",
    "}"
   ]
  },
  {
   "cell_type": "markdown",
   "metadata": {},
   "source": [
    "`example5` is O(n<sup>3</sup>)\n",
    "\n",
    "### 3\n",
    "- The number of operations executed by algorithms A and B is 40n<sup>2</sup> and 2n<sup>3</sup>, respectively. Determine n<sub>0</sub> such that A is better than B for all n >= n<sub>0</sub>.\n",
    "\n",
    "40*n<sup>2</sup> = 2*n<sup>3</sup>\n",
    "\n",
    "0 = 2*n<sup>3</sup> - 40*n<sup>2</sup>\n",
    "\n",
    "0 = 2*n<sup>2</sup>*(n - 20)\n",
    "\n",
    "-> n = 0, 20\n",
    "-> n<sub>0</sub> = 21\n",
    "\n",
    "### 4\n",
    "- Prove that if d(n) is O(f(n)) and e(n) is O(g(n)), then d(n)+e(n) is O(f(n)+g(n))\n",
    "\n",
    "d(n) is O(f(n)) -> d(n) <= c*f(n), n >= n<sub>0</sub>\n",
    "\n",
    "e(n) is O(g(n)) -> e(n) <= c*g(n), n >= n<sub>0</sub>\n",
    "\n",
    "d(n) + e(n) -> d(n) + e(n) <= c*(f(n) + g(n)), n >= n<sub>0</sub>\n",
    "\n",
    "d(n) + e(n) <= c*(f(n) + g(n)), n >= n<sub>0</sub> -> d(n) + e(n) is O(f(n) + g(n))"
   ]
  }
 ],
 "metadata": {
  "kernelspec": {
   "display_name": "Java (Rapaio Jupyter)",
   "language": "java",
   "name": "rapaio-jupyter-kernel"
  },
  "language_info": {
   "codemirror_mode": "java",
   "file_extension": ".jshell",
   "mimetype": "text/x-java-source",
   "name": "java",
   "nbconvert_exporter": "script",
   "pygments_lexer": "java",
   "version": "21.0.2+13-LTS-58"
  }
 },
 "nbformat": 4,
 "nbformat_minor": 2
}
